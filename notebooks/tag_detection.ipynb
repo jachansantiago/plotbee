{
 "cells": [
  {
   "cell_type": "code",
   "execution_count": null,
   "id": "processed-raleigh",
   "metadata": {},
   "outputs": [],
   "source": [
    "from plotbee.video import Video"
   ]
  },
  {
   "cell_type": "code",
   "execution_count": null,
   "id": "variable-disability",
   "metadata": {},
   "outputs": [],
   "source": [
    "video = Video.load(\"../../../bee/videos/OUTPUT/C02_170622120000_skeleton.json\")\n",
    "video.load_video(\"../../../bee/videos/C02_170622120000.mp4\")"
   ]
  },
  {
   "cell_type": "code",
   "execution_count": null,
   "id": "architectural-blogger",
   "metadata": {},
   "outputs": [],
   "source": [
    "video.tag_detection()"
   ]
  },
  {
   "cell_type": "code",
   "execution_count": null,
   "id": "municipal-kansas",
   "metadata": {},
   "outputs": [],
   "source": []
  }
 ],
 "metadata": {
  "kernelspec": {
   "display_name": "bees",
   "language": "python",
   "name": "bees"
  },
  "language_info": {
   "codemirror_mode": {
    "name": "ipython",
    "version": 3
   },
   "file_extension": ".py",
   "mimetype": "text/x-python",
   "name": "python",
   "nbconvert_exporter": "python",
   "pygments_lexer": "ipython3",
   "version": "3.7.3"
  }
 },
 "nbformat": 4,
 "nbformat_minor": 5
}
